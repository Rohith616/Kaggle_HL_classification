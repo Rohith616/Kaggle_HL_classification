{
  "nbformat": 4,
  "nbformat_minor": 0,
  "metadata": {
    "colab": {
      "name": "Handwritten Letter Recog.ipynb",
      "provenance": [],
      "authorship_tag": "ABX9TyMOFN1+E/1QghrItcNM90LI",
      "include_colab_link": true
    },
    "kernelspec": {
      "name": "python3",
      "display_name": "Python 3"
    },
    "language_info": {
      "name": "python"
    }
  },
  "cells": [
    {
      "cell_type": "markdown",
      "metadata": {
        "id": "view-in-github",
        "colab_type": "text"
      },
      "source": [
        "<a href=\"https://colab.research.google.com/github/Rohithtechis/Kaggle_HL_classification/blob/main/Handwritten_Letter_Recog.ipynb\" target=\"_parent\"><img src=\"https://colab.research.google.com/assets/colab-badge.svg\" alt=\"Open In Colab\"/></a>"
      ]
    },
    {
      "cell_type": "code",
      "metadata": {
        "colab": {
          "base_uri": "https://localhost:8080/"
        },
        "id": "7LuP8ybMFRdI",
        "outputId": "f1831e4a-cca1-4b75-f232-f781db9381b3"
      },
      "source": [
        "import numpy as np \n",
        "import pandas as pd\n",
        "import os\n",
        "print(os.listdir('/content/input'))\n"
      ],
      "execution_count": 20,
      "outputs": [
        {
          "output_type": "stream",
          "name": "stdout",
          "text": [
            "['letters3.csv', 'LetterColorImages2.h5', 'letters2.csv', 'letters.csv', 'LetterColorImages3.h5', 'letters2.txt', 'letters3.txt', 'LetterColorImages.h5', 'LetterColorImages_123.h5']\n"
          ]
        }
      ]
    },
    {
      "cell_type": "code",
      "metadata": {
        "colab": {
          "base_uri": "https://localhost:8080/",
          "height": 204
        },
        "id": "u0wyZpxvFRe_",
        "outputId": "6a50f883-cef8-4e48-e63b-0dcb68d5da5d"
      },
      "source": [
        "import warnings\n",
        "\n",
        "warnings.filterwarnings('ignore', category=FutureWarning)\n",
        "\n",
        "data1 = pd.read_csv(\"/content/input/letters.csv\")\n",
        "files1 = data1['file']\n",
        "letters1 = data1['letter']\n",
        "backgrounds1 = data1['background']\n",
        "\n",
        "data2 = pd.read_csv(\"/content/input/letters2.csv\")\n",
        "files2 = data2['file']\n",
        "letters2 = data2['letter']\n",
        "backgrounds2 = data2['background']\n",
        "\n",
        "data3 = pd.read_csv(\"/content/input/letters3.csv\")\n",
        "files3 = data3['file']\n",
        "letters3 = data3['letter']\n",
        "backgrounds3 = data3['background']\n",
        "data3.head()"
      ],
      "execution_count": 30,
      "outputs": [
        {
          "output_type": "execute_result",
          "data": {
            "text/html": [
              "<div>\n",
              "<style scoped>\n",
              "    .dataframe tbody tr th:only-of-type {\n",
              "        vertical-align: middle;\n",
              "    }\n",
              "\n",
              "    .dataframe tbody tr th {\n",
              "        vertical-align: top;\n",
              "    }\n",
              "\n",
              "    .dataframe thead th {\n",
              "        text-align: right;\n",
              "    }\n",
              "</style>\n",
              "<table border=\"1\" class=\"dataframe\">\n",
              "  <thead>\n",
              "    <tr style=\"text-align: right;\">\n",
              "      <th></th>\n",
              "      <th>letter</th>\n",
              "      <th>label</th>\n",
              "      <th>file</th>\n",
              "      <th>background</th>\n",
              "    </tr>\n",
              "  </thead>\n",
              "  <tbody>\n",
              "    <tr>\n",
              "      <th>0</th>\n",
              "      <td>а</td>\n",
              "      <td>1</td>\n",
              "      <td>01_231.png</td>\n",
              "      <td>3</td>\n",
              "    </tr>\n",
              "    <tr>\n",
              "      <th>1</th>\n",
              "      <td>а</td>\n",
              "      <td>1</td>\n",
              "      <td>01_232.png</td>\n",
              "      <td>3</td>\n",
              "    </tr>\n",
              "    <tr>\n",
              "      <th>2</th>\n",
              "      <td>а</td>\n",
              "      <td>1</td>\n",
              "      <td>01_233.png</td>\n",
              "      <td>3</td>\n",
              "    </tr>\n",
              "    <tr>\n",
              "      <th>3</th>\n",
              "      <td>а</td>\n",
              "      <td>1</td>\n",
              "      <td>01_234.png</td>\n",
              "      <td>3</td>\n",
              "    </tr>\n",
              "    <tr>\n",
              "      <th>4</th>\n",
              "      <td>а</td>\n",
              "      <td>1</td>\n",
              "      <td>01_235.png</td>\n",
              "      <td>3</td>\n",
              "    </tr>\n",
              "  </tbody>\n",
              "</table>\n",
              "</div>"
            ],
            "text/plain": [
              "  letter  label        file  background\n",
              "0      а      1  01_231.png           3\n",
              "1      а      1  01_232.png           3\n",
              "2      а      1  01_233.png           3\n",
              "3      а      1  01_234.png           3\n",
              "4      а      1  01_235.png           3"
            ]
          },
          "metadata": {},
          "execution_count": 30
        }
      ]
    },
    {
      "cell_type": "code",
      "metadata": {
        "colab": {
          "base_uri": "https://localhost:8080/"
        },
        "id": "of7eVP09N5Ey",
        "outputId": "4dd9a0a3-a89f-42ca-ddc0-9be02bb2489f"
      },
      "source": [
        "f = h5py.File('/content/input/LetterColorImages_123.h5', 'r')\n",
        "# List all groups\n",
        "keys = list(f.keys())\n",
        "keys "
      ],
      "execution_count": 26,
      "outputs": [
        {
          "output_type": "execute_result",
          "data": {
            "text/plain": [
              "['backgrounds', 'images', 'labels']"
            ]
          },
          "metadata": {},
          "execution_count": 26
        }
      ]
    },
    {
      "cell_type": "code",
      "metadata": {
        "colab": {
          "base_uri": "https://localhost:8080/"
        },
        "id": "kWRL9l2KOAaX",
        "outputId": "3a9b92c0-57d1-43dc-e21e-bf75ef98ba10"
      },
      "source": [
        "backgrounds = np.array(f[keys[0]])\n",
        "tensors = np.array(f[keys[1]])\n",
        "targets = np.array(f[keys[2]])\n",
        "print ('Tensor shape:', tensors.shape)\n",
        "print ('Target shape', targets.shape)\n",
        "print ('Background shape:', backgrounds.shape)"
      ],
      "execution_count": 27,
      "outputs": [
        {
          "output_type": "stream",
          "name": "stdout",
          "text": [
            "Tensor shape: (14190, 32, 32, 3)\n",
            "Target shape (14190,)\n",
            "Background shape: (14190,)\n"
          ]
        }
      ]
    },
    {
      "cell_type": "code",
      "metadata": {
        "colab": {
          "base_uri": "https://localhost:8080/"
        },
        "id": "VcVvTXO3OLDS",
        "outputId": "95b1ed3a-290d-4dc7-abc5-03d476ead0d7"
      },
      "source": [
        "letters = pd.concat((letters1, letters2), axis=0, ignore_index=True)\n",
        "letters = pd.concat((letters, letters3), axis=0, ignore_index=True)\n",
        "len(letters)"
      ],
      "execution_count": 31,
      "outputs": [
        {
          "output_type": "execute_result",
          "data": {
            "text/plain": [
              "14190"
            ]
          },
          "metadata": {},
          "execution_count": 31
        }
      ]
    },
    {
      "cell_type": "code",
      "metadata": {
        "id": "8hoqiIdJOLhi"
      },
      "source": [
        "tensors = tensors.astype('float32')/255"
      ],
      "execution_count": 32,
      "outputs": []
    },
    {
      "cell_type": "code",
      "metadata": {
        "colab": {
          "base_uri": "https://localhost:8080/",
          "height": 232
        },
        "id": "VyMEJ1-GOLkX",
        "outputId": "079cf9b4-d31e-4d06-b466-077370f30a05"
      },
      "source": [
        "import matplotlib.pylab as plt\n",
        "from matplotlib import cm\n",
        "%matplotlib inline\n",
        "\n",
        "# Read and display a tensor using Matplotlib\n",
        "print('Label: ', letters[10])\n",
        "plt.figure(figsize=(3,3))\n",
        "plt.imshow(tensors[10]);"
      ],
      "execution_count": 33,
      "outputs": [
        {
          "output_type": "stream",
          "name": "stdout",
          "text": [
            "Label:  а\n"
          ]
        },
        {
          "output_type": "display_data",
          "data": {
            "image/png": "[encoded data removed]",
            "text/plain": [
              "<Figure size 216x216 with 1 Axes>"
            ]
          },
          "metadata": {
            "needs_background": "light"
          }
        }
      ]
    },
    {
      "cell_type": "code",
      "metadata": {
        "colab": {
          "base_uri": "https://localhost:8080/"
        },
        "id": "tz4L10qFOLmb",
        "outputId": "76c98f7e-8aed-41be-af92-7d9622c08e94"
      },
      "source": [
        "print(set(targets))"
      ],
      "execution_count": 34,
      "outputs": [
        {
          "output_type": "stream",
          "name": "stdout",
          "text": [
            "{1, 2, 3, 4, 5, 6, 7, 8, 9, 10, 11, 12, 13, 14, 15, 16, 17, 18, 19, 20, 21, 22, 23, 24, 25, 26, 27, 28, 29, 30, 31, 32, 33}\n"
          ]
        }
      ]
    },
    {
      "cell_type": "code",
      "metadata": {
        "colab": {
          "base_uri": "https://localhost:8080/"
        },
        "id": "WnUx_ISOOLqA",
        "outputId": "f97116a2-9166-49d9-a309-79389ea1c390"
      },
      "source": [
        "from keras.utils import to_categorical\n",
        "\n",
        "# One-hot encoding the targets, started from the zero label\n",
        "cat_targets = to_categorical(np.array(targets-1), 33)\n",
        "cat_targets.shape"
      ],
      "execution_count": 35,
      "outputs": [
        {
          "output_type": "execute_result",
          "data": {
            "text/plain": [
              "(14190, 33)"
            ]
          },
          "metadata": {},
          "execution_count": 35
        }
      ]
    },
    {
      "cell_type": "code",
      "metadata": {
        "colab": {
          "base_uri": "https://localhost:8080/"
        },
        "id": "iNsqYS2VOL1K",
        "outputId": "bb1e9f67-9fd3-4db5-e594-a39cb55fb0a6"
      },
      "source": [
        "from sklearn.model_selection import train_test_split\n",
        "\n",
        "# Split the data\n",
        "x_train, x_test, y_train, y_test = train_test_split(tensors, cat_targets, \n",
        "                                                    test_size = 0.2, \n",
        "                                                    random_state = 1)\n",
        "n = int(len(x_test)/2)\n",
        "x_valid, y_valid = x_test[:n], y_test[:n]\n",
        "x_test, y_test = x_test[n:], y_test[n:]\n",
        "\n",
        "# Print the shape\n",
        "x_train.shape, y_train.shape, x_valid.shape, y_valid.shape, x_test.shape, y_test.shape"
      ],
      "execution_count": 36,
      "outputs": [
        {
          "output_type": "execute_result",
          "data": {
            "text/plain": [
              "((11352, 32, 32, 3),\n",
              " (11352, 33),\n",
              " (1419, 32, 32, 3),\n",
              " (1419, 33),\n",
              " (1419, 32, 32, 3),\n",
              " (1419, 33))"
            ]
          },
          "metadata": {},
          "execution_count": 36
        }
      ]
    },
    {
      "cell_type": "code",
      "metadata": {
        "colab": {
          "base_uri": "https://localhost:8080/"
        },
        "id": "L7YMl61hPDlU",
        "outputId": "0fb4fd42-1c11-41ba-9809-baf1214fa142"
      },
      "source": [
        "from keras.preprocessing import image as keras_image\n",
        "from keras.callbacks import ModelCheckpoint, ReduceLROnPlateau\n",
        "from keras.metrics import top_k_categorical_accuracy, categorical_accuracy\n",
        "from keras.models import Sequential, load_model\n",
        "from keras.layers import Dense, LSTM, GlobalAveragePooling1D, GlobalAveragePooling2D\n",
        "from keras.layers.advanced_activations import PReLU, LeakyReLU\n",
        "from keras.layers import Activation, Flatten, Dropout, BatchNormalization\n",
        "from keras.layers import Conv2D, MaxPooling2D, GlobalMaxPooling2D\n",
        "\n",
        "def top_3_categorical_accuracy(y_true, y_pred):\n",
        "    return top_k_categorical_accuracy(y_true, y_pred, k=3)\n",
        "\n",
        "model = Sequential()\n",
        "\n",
        "# Define a model architecture    \n",
        "model.add(Conv2D(32, (5, 5), padding='same', input_shape=x_train.shape[1:]))\n",
        "model.add(LeakyReLU(alpha=0.02))\n",
        "\n",
        "model.add(MaxPooling2D(pool_size=(2, 2)))\n",
        "model.add(Dropout(0.2))\n",
        "\n",
        "model.add(Conv2D(196, (5, 5)))\n",
        "model.add(LeakyReLU(alpha=0.02))\n",
        "\n",
        "model.add(MaxPooling2D(pool_size=(2, 2)))\n",
        "model.add(Dropout(0.2))\n",
        "\n",
        "model.add(GlobalMaxPooling2D())\n",
        "\n",
        "model.add(Dense(1024))\n",
        "model.add(LeakyReLU(alpha=0.02))\n",
        "model.add(Dropout(0.5)) \n",
        "\n",
        "model.add(Dense(33))\n",
        "model.add(Activation('softmax'))\n",
        "\n",
        "# Compile the model\n",
        "model.compile(loss='categorical_crossentropy', optimizer='adam', \n",
        "              metrics=[categorical_accuracy, top_3_categorical_accuracy])"
      ],
      "execution_count": 37,
      "outputs": [
        {
          "output_type": "stream",
          "name": "stdout",
          "text": [
            "WARNING:tensorflow:From /tensorflow-1.15.2/python3.7/tensorflow_core/python/ops/resource_variable_ops.py:1630: calling BaseResourceVariable.__init__ (from tensorflow.python.ops.resource_variable_ops) with constraint is deprecated and will be removed in a future version.\n",
            "Instructions for updating:\n",
            "If using Keras pass *_constraint arguments to layers.\n",
            "WARNING:tensorflow:From /tensorflow-1.15.2/python3.7/keras/backend/tensorflow_backend.py:4070: The name tf.nn.max_pool is deprecated. Please use tf.nn.max_pool2d instead.\n",
            "\n"
          ]
        }
      ]
    },
    {
      "cell_type": "code",
      "metadata": {
        "colab": {
          "base_uri": "https://localhost:8080/"
        },
        "id": "DSPzeLYKPDoK",
        "outputId": "ede70b8b-ae81-4844-801e-462470a0af0e"
      },
      "source": [
        "checkpointer = ModelCheckpoint(filepath='weights.best.model.hdf5', \n",
        "                               verbose=2, save_best_only=True)\n",
        "lr_reduction = ReduceLROnPlateau(monitor='val_loss', \n",
        "                                 patience=5, verbose=2, factor=0.75)\n",
        "# Train the model\n",
        "history = model.fit(x_train, y_train, \n",
        "                    epochs=50, batch_size=512, verbose=2,\n",
        "                    validation_data=(x_valid, y_valid),\n",
        "                    callbacks=[checkpointer, lr_reduction])"
      ],
      "execution_count": 38,
      "outputs": [
        {
          "output_type": "stream",
          "name": "stdout",
          "text": [
            "WARNING:tensorflow:From /tensorflow-1.15.2/python3.7/keras/backend/tensorflow_backend.py:422: The name tf.global_variables is deprecated. Please use tf.compat.v1.global_variables instead.\n",
            "\n",
            "Train on 11352 samples, validate on 1419 samples\n",
            "Epoch 1/50\n",
            " - 49s - loss: 3.4957 - categorical_accuracy: 0.0300 - top_3_categorical_accuracy: 0.0910 - val_loss: 3.4900 - val_categorical_accuracy: 0.0268 - val_top_3_categorical_accuracy: 0.0923\n",
            "\n",
            "Epoch 00001: val_loss improved from inf to 3.49004, saving model to weights.best.model.hdf5\n",
            "Epoch 2/50\n",
            " - 48s - loss: 3.4774 - categorical_accuracy: 0.0345 - top_3_categorical_accuracy: 0.1082 - val_loss: 3.4573 - val_categorical_accuracy: 0.0521 - val_top_3_categorical_accuracy: 0.1557\n",
            "\n",
            "Epoch 00002: val_loss improved from 3.49004 to 3.45727, saving model to weights.best.model.hdf5\n",
            "Epoch 3/50\n",
            " - 48s - loss: 3.4028 - categorical_accuracy: 0.0564 - top_3_categorical_accuracy: 0.1579 - val_loss: 3.3628 - val_categorical_accuracy: 0.0712 - val_top_3_categorical_accuracy: 0.1860\n",
            "\n",
            "Epoch 00003: val_loss improved from 3.45727 to 3.36276, saving model to weights.best.model.hdf5\n",
            "Epoch 4/50\n",
            " - 48s - loss: 3.3261 - categorical_accuracy: 0.0682 - top_3_categorical_accuracy: 0.1857 - val_loss: 3.2989 - val_categorical_accuracy: 0.0698 - val_top_3_categorical_accuracy: 0.2093\n",
            "\n",
            "Epoch 00004: val_loss improved from 3.36276 to 3.29886, saving model to weights.best.model.hdf5\n",
            "Epoch 5/50\n",
            " - 48s - loss: 3.2644 - categorical_accuracy: 0.0715 - top_3_categorical_accuracy: 0.2085 - val_loss: 3.2881 - val_categorical_accuracy: 0.0726 - val_top_3_categorical_accuracy: 0.2086\n",
            "\n",
            "Epoch 00005: val_loss improved from 3.29886 to 3.28812, saving model to weights.best.model.hdf5\n",
            "Epoch 6/50\n",
            " - 48s - loss: 3.2210 - categorical_accuracy: 0.0766 - top_3_categorical_accuracy: 0.2199 - val_loss: 3.1896 - val_categorical_accuracy: 0.0930 - val_top_3_categorical_accuracy: 0.2481\n",
            "\n",
            "Epoch 00006: val_loss improved from 3.28812 to 3.18960, saving model to weights.best.model.hdf5\n",
            "Epoch 7/50\n",
            " - 48s - loss: 3.1291 - categorical_accuracy: 0.0910 - top_3_categorical_accuracy: 0.2482 - val_loss: 3.3597 - val_categorical_accuracy: 0.0726 - val_top_3_categorical_accuracy: 0.1980\n",
            "\n",
            "Epoch 00007: val_loss did not improve from 3.18960\n",
            "Epoch 8/50\n",
            " - 48s - loss: 3.1706 - categorical_accuracy: 0.0915 - top_3_categorical_accuracy: 0.2430 - val_loss: 3.1519 - val_categorical_accuracy: 0.0958 - val_top_3_categorical_accuracy: 0.2763\n",
            "\n",
            "Epoch 00008: val_loss improved from 3.18960 to 3.15190, saving model to weights.best.model.hdf5\n",
            "Epoch 9/50\n",
            " - 48s - loss: 3.0969 - categorical_accuracy: 0.1016 - top_3_categorical_accuracy: 0.2702 - val_loss: 3.1113 - val_categorical_accuracy: 0.0980 - val_top_3_categorical_accuracy: 0.2650\n",
            "\n",
            "Epoch 00009: val_loss improved from 3.15190 to 3.11131, saving model to weights.best.model.hdf5\n",
            "Epoch 10/50\n",
            " - 48s - loss: 3.0420 - categorical_accuracy: 0.1113 - top_3_categorical_accuracy: 0.2900 - val_loss: 3.0444 - val_categorical_accuracy: 0.1184 - val_top_3_categorical_accuracy: 0.3192\n",
            "\n",
            "Epoch 00010: val_loss improved from 3.11131 to 3.04437, saving model to weights.best.model.hdf5\n",
            "Epoch 11/50\n",
            " - 48s - loss: 2.9688 - categorical_accuracy: 0.1361 - top_3_categorical_accuracy: 0.3216 - val_loss: 2.9933 - val_categorical_accuracy: 0.1656 - val_top_3_categorical_accuracy: 0.3615\n",
            "\n",
            "Epoch 00011: val_loss improved from 3.04437 to 2.99330, saving model to weights.best.model.hdf5\n",
            "Epoch 12/50\n",
            " - 48s - loss: 2.8921 - categorical_accuracy: 0.1636 - top_3_categorical_accuracy: 0.3680 - val_loss: 2.8393 - val_categorical_accuracy: 0.1846 - val_top_3_categorical_accuracy: 0.4362\n",
            "\n",
            "Epoch 00012: val_loss improved from 2.99330 to 2.83927, saving model to weights.best.model.hdf5\n",
            "Epoch 13/50\n",
            " - 48s - loss: 2.7385 - categorical_accuracy: 0.1915 - top_3_categorical_accuracy: 0.4159 - val_loss: 2.7211 - val_categorical_accuracy: 0.2396 - val_top_3_categorical_accuracy: 0.4623\n",
            "\n",
            "Epoch 00013: val_loss improved from 2.83927 to 2.72109, saving model to weights.best.model.hdf5\n",
            "Epoch 14/50\n",
            " - 48s - loss: 2.5946 - categorical_accuracy: 0.2207 - top_3_categorical_accuracy: 0.4737 - val_loss: 2.6167 - val_categorical_accuracy: 0.2495 - val_top_3_categorical_accuracy: 0.5222\n",
            "\n",
            "Epoch 00014: val_loss improved from 2.72109 to 2.61669, saving model to weights.best.model.hdf5\n",
            "Epoch 15/50\n",
            " - 48s - loss: 2.4853 - categorical_accuracy: 0.2437 - top_3_categorical_accuracy: 0.5051 - val_loss: 2.4261 - val_categorical_accuracy: 0.3037 - val_top_3_categorical_accuracy: 0.5673\n",
            "\n",
            "Epoch 00015: val_loss improved from 2.61669 to 2.42612, saving model to weights.best.model.hdf5\n",
            "Epoch 16/50\n",
            " - 48s - loss: 2.3689 - categorical_accuracy: 0.2822 - top_3_categorical_accuracy: 0.5433 - val_loss: 2.2870 - val_categorical_accuracy: 0.3404 - val_top_3_categorical_accuracy: 0.6039\n",
            "\n",
            "Epoch 00016: val_loss improved from 2.42612 to 2.28704, saving model to weights.best.model.hdf5\n",
            "Epoch 17/50\n",
            " - 48s - loss: 2.2712 - categorical_accuracy: 0.3126 - top_3_categorical_accuracy: 0.5768 - val_loss: 2.2473 - val_categorical_accuracy: 0.3305 - val_top_3_categorical_accuracy: 0.5962\n",
            "\n",
            "Epoch 00017: val_loss improved from 2.28704 to 2.24727, saving model to weights.best.model.hdf5\n",
            "Epoch 18/50\n",
            " - 48s - loss: 2.1986 - categorical_accuracy: 0.3330 - top_3_categorical_accuracy: 0.6018 - val_loss: 2.0693 - val_categorical_accuracy: 0.3904 - val_top_3_categorical_accuracy: 0.6716\n",
            "\n",
            "Epoch 00018: val_loss improved from 2.24727 to 2.06930, saving model to weights.best.model.hdf5\n",
            "Epoch 19/50\n",
            " - 48s - loss: 2.0734 - categorical_accuracy: 0.3646 - top_3_categorical_accuracy: 0.6443 - val_loss: 1.9913 - val_categorical_accuracy: 0.4461 - val_top_3_categorical_accuracy: 0.6963\n",
            "\n",
            "Epoch 00019: val_loss improved from 2.06930 to 1.99127, saving model to weights.best.model.hdf5\n",
            "Epoch 20/50\n",
            " - 48s - loss: 1.9935 - categorical_accuracy: 0.3952 - top_3_categorical_accuracy: 0.6651 - val_loss: 1.9063 - val_categorical_accuracy: 0.4700 - val_top_3_categorical_accuracy: 0.7188\n",
            "\n",
            "Epoch 00020: val_loss improved from 1.99127 to 1.90634, saving model to weights.best.model.hdf5\n",
            "Epoch 21/50\n",
            " - 48s - loss: 1.8909 - categorical_accuracy: 0.4341 - top_3_categorical_accuracy: 0.6930 - val_loss: 1.8474 - val_categorical_accuracy: 0.4975 - val_top_3_categorical_accuracy: 0.7414\n",
            "\n",
            "Epoch 00021: val_loss improved from 1.90634 to 1.84736, saving model to weights.best.model.hdf5\n",
            "Epoch 22/50\n",
            " - 48s - loss: 1.8163 - categorical_accuracy: 0.4493 - top_3_categorical_accuracy: 0.7156 - val_loss: 1.6554 - val_categorical_accuracy: 0.5638 - val_top_3_categorical_accuracy: 0.7872\n",
            "\n",
            "Epoch 00022: val_loss improved from 1.84736 to 1.65537, saving model to weights.best.model.hdf5\n",
            "Epoch 23/50\n",
            " - 48s - loss: 1.6937 - categorical_accuracy: 0.4914 - top_3_categorical_accuracy: 0.7458 - val_loss: 1.6012 - val_categorical_accuracy: 0.5652 - val_top_3_categorical_accuracy: 0.7921\n",
            "\n",
            "Epoch 00023: val_loss improved from 1.65537 to 1.60120, saving model to weights.best.model.hdf5\n",
            "Epoch 24/50\n",
            " - 48s - loss: 1.6330 - categorical_accuracy: 0.5071 - top_3_categorical_accuracy: 0.7603 - val_loss: 1.4546 - val_categorical_accuracy: 0.6202 - val_top_3_categorical_accuracy: 0.8252\n",
            "\n",
            "Epoch 00024: val_loss improved from 1.60120 to 1.45464, saving model to weights.best.model.hdf5\n",
            "Epoch 25/50\n",
            " - 48s - loss: 1.5410 - categorical_accuracy: 0.5396 - top_3_categorical_accuracy: 0.7827 - val_loss: 1.3679 - val_categorical_accuracy: 0.6371 - val_top_3_categorical_accuracy: 0.8407\n",
            "\n",
            "Epoch 00025: val_loss improved from 1.45464 to 1.36790, saving model to weights.best.model.hdf5\n",
            "Epoch 26/50\n",
            " - 48s - loss: 1.4325 - categorical_accuracy: 0.5748 - top_3_categorical_accuracy: 0.8017 - val_loss: 1.3105 - val_categorical_accuracy: 0.6505 - val_top_3_categorical_accuracy: 0.8485\n",
            "\n",
            "Epoch 00026: val_loss improved from 1.36790 to 1.31053, saving model to weights.best.model.hdf5\n",
            "Epoch 27/50\n",
            " - 48s - loss: 1.3635 - categorical_accuracy: 0.5885 - top_3_categorical_accuracy: 0.8212 - val_loss: 1.2895 - val_categorical_accuracy: 0.6526 - val_top_3_categorical_accuracy: 0.8450\n",
            "\n",
            "Epoch 00027: val_loss improved from 1.31053 to 1.28952, saving model to weights.best.model.hdf5\n",
            "Epoch 28/50\n",
            " - 48s - loss: 1.3222 - categorical_accuracy: 0.6025 - top_3_categorical_accuracy: 0.8270 - val_loss: 1.1820 - val_categorical_accuracy: 0.6913 - val_top_3_categorical_accuracy: 0.8703\n",
            "\n",
            "Epoch 00028: val_loss improved from 1.28952 to 1.18200, saving model to weights.best.model.hdf5\n",
            "Epoch 29/50\n",
            " - 48s - loss: 1.2602 - categorical_accuracy: 0.6207 - top_3_categorical_accuracy: 0.8375 - val_loss: 1.1370 - val_categorical_accuracy: 0.6913 - val_top_3_categorical_accuracy: 0.8724\n",
            "\n",
            "Epoch 00029: val_loss improved from 1.18200 to 1.13704, saving model to weights.best.model.hdf5\n",
            "Epoch 30/50\n",
            " - 48s - loss: 1.2034 - categorical_accuracy: 0.6342 - top_3_categorical_accuracy: 0.8458 - val_loss: 1.0827 - val_categorical_accuracy: 0.7174 - val_top_3_categorical_accuracy: 0.8908\n",
            "\n",
            "Epoch 00030: val_loss improved from 1.13704 to 1.08267, saving model to weights.best.model.hdf5\n",
            "Epoch 31/50\n",
            " - 48s - loss: 1.1650 - categorical_accuracy: 0.6516 - top_3_categorical_accuracy: 0.8562 - val_loss: 1.1567 - val_categorical_accuracy: 0.6695 - val_top_3_categorical_accuracy: 0.8612\n",
            "\n",
            "Epoch 00031: val_loss did not improve from 1.08267\n",
            "Epoch 32/50\n",
            " - 48s - loss: 1.1117 - categorical_accuracy: 0.6651 - top_3_categorical_accuracy: 0.8633 - val_loss: 1.0133 - val_categorical_accuracy: 0.7364 - val_top_3_categorical_accuracy: 0.8865\n",
            "\n",
            "Epoch 00032: val_loss improved from 1.08267 to 1.01330, saving model to weights.best.model.hdf5\n",
            "Epoch 33/50\n",
            " - 48s - loss: 1.0661 - categorical_accuracy: 0.6828 - top_3_categorical_accuracy: 0.8708 - val_loss: 0.9684 - val_categorical_accuracy: 0.7421 - val_top_3_categorical_accuracy: 0.8915\n",
            "\n",
            "Epoch 00033: val_loss improved from 1.01330 to 0.96838, saving model to weights.best.model.hdf5\n",
            "Epoch 34/50\n",
            " - 48s - loss: 1.0236 - categorical_accuracy: 0.6939 - top_3_categorical_accuracy: 0.8819 - val_loss: 0.9430 - val_categorical_accuracy: 0.7519 - val_top_3_categorical_accuracy: 0.9077\n",
            "\n",
            "Epoch 00034: val_loss improved from 0.96838 to 0.94304, saving model to weights.best.model.hdf5\n",
            "Epoch 35/50\n",
            " - 48s - loss: 0.9896 - categorical_accuracy: 0.7043 - top_3_categorical_accuracy: 0.8861 - val_loss: 0.8922 - val_categorical_accuracy: 0.7696 - val_top_3_categorical_accuracy: 0.9098\n",
            "\n",
            "Epoch 00035: val_loss improved from 0.94304 to 0.89219, saving model to weights.best.model.hdf5\n",
            "Epoch 36/50\n",
            " - 48s - loss: 0.9714 - categorical_accuracy: 0.7095 - top_3_categorical_accuracy: 0.8873 - val_loss: 0.8720 - val_categorical_accuracy: 0.7703 - val_top_3_categorical_accuracy: 0.9077\n",
            "\n",
            "Epoch 00036: val_loss improved from 0.89219 to 0.87197, saving model to weights.best.model.hdf5\n",
            "Epoch 37/50\n",
            " - 48s - loss: 0.9495 - categorical_accuracy: 0.7141 - top_3_categorical_accuracy: 0.8928 - val_loss: 0.8236 - val_categorical_accuracy: 0.7872 - val_top_3_categorical_accuracy: 0.9161\n",
            "\n",
            "Epoch 00037: val_loss improved from 0.87197 to 0.82358, saving model to weights.best.model.hdf5\n",
            "Epoch 38/50\n",
            " - 48s - loss: 0.9118 - categorical_accuracy: 0.7250 - top_3_categorical_accuracy: 0.9000 - val_loss: 0.8074 - val_categorical_accuracy: 0.7829 - val_top_3_categorical_accuracy: 0.9091\n",
            "\n",
            "Epoch 00038: val_loss improved from 0.82358 to 0.80744, saving model to weights.best.model.hdf5\n",
            "Epoch 39/50\n",
            " - 48s - loss: 0.9114 - categorical_accuracy: 0.7224 - top_3_categorical_accuracy: 0.8998 - val_loss: 0.7879 - val_categorical_accuracy: 0.7851 - val_top_3_categorical_accuracy: 0.9168\n",
            "\n",
            "Epoch 00039: val_loss improved from 0.80744 to 0.78791, saving model to weights.best.model.hdf5\n",
            "Epoch 40/50\n",
            " - 48s - loss: 0.8583 - categorical_accuracy: 0.7381 - top_3_categorical_accuracy: 0.9076 - val_loss: 0.7743 - val_categorical_accuracy: 0.7942 - val_top_3_categorical_accuracy: 0.9204\n",
            "\n",
            "Epoch 00040: val_loss improved from 0.78791 to 0.77430, saving model to weights.best.model.hdf5\n",
            "Epoch 41/50\n",
            " - 48s - loss: 0.8532 - categorical_accuracy: 0.7434 - top_3_categorical_accuracy: 0.9072 - val_loss: 0.7606 - val_categorical_accuracy: 0.7970 - val_top_3_categorical_accuracy: 0.9225\n",
            "\n",
            "Epoch 00041: val_loss improved from 0.77430 to 0.76059, saving model to weights.best.model.hdf5\n",
            "Epoch 42/50\n",
            " - 48s - loss: 0.8080 - categorical_accuracy: 0.7538 - top_3_categorical_accuracy: 0.9152 - val_loss: 0.7451 - val_categorical_accuracy: 0.8062 - val_top_3_categorical_accuracy: 0.9260\n",
            "\n",
            "Epoch 00042: val_loss improved from 0.76059 to 0.74509, saving model to weights.best.model.hdf5\n",
            "Epoch 43/50\n",
            " - 48s - loss: 0.8063 - categorical_accuracy: 0.7592 - top_3_categorical_accuracy: 0.9126 - val_loss: 0.7192 - val_categorical_accuracy: 0.8104 - val_top_3_categorical_accuracy: 0.9281\n",
            "\n",
            "Epoch 00043: val_loss improved from 0.74509 to 0.71924, saving model to weights.best.model.hdf5\n",
            "Epoch 44/50\n",
            " - 48s - loss: 0.7943 - categorical_accuracy: 0.7574 - top_3_categorical_accuracy: 0.9185 - val_loss: 0.7246 - val_categorical_accuracy: 0.7984 - val_top_3_categorical_accuracy: 0.9288\n",
            "\n",
            "Epoch 00044: val_loss did not improve from 0.71924\n",
            "Epoch 45/50\n",
            " - 48s - loss: 0.7534 - categorical_accuracy: 0.7735 - top_3_categorical_accuracy: 0.9198 - val_loss: 0.6636 - val_categorical_accuracy: 0.8280 - val_top_3_categorical_accuracy: 0.9352\n",
            "\n",
            "Epoch 00045: val_loss improved from 0.71924 to 0.66363, saving model to weights.best.model.hdf5\n",
            "Epoch 46/50\n",
            " - 48s - loss: 0.7307 - categorical_accuracy: 0.7761 - top_3_categorical_accuracy: 0.9255 - val_loss: 0.6430 - val_categorical_accuracy: 0.8288 - val_top_3_categorical_accuracy: 0.9380\n",
            "\n",
            "Epoch 00046: val_loss improved from 0.66363 to 0.64305, saving model to weights.best.model.hdf5\n",
            "Epoch 47/50\n",
            " - 48s - loss: 0.7124 - categorical_accuracy: 0.7831 - top_3_categorical_accuracy: 0.9286 - val_loss: 0.6582 - val_categorical_accuracy: 0.8309 - val_top_3_categorical_accuracy: 0.9295\n",
            "\n",
            "Epoch 00047: val_loss did not improve from 0.64305\n",
            "Epoch 48/50\n",
            " - 48s - loss: 0.7111 - categorical_accuracy: 0.7807 - top_3_categorical_accuracy: 0.9305 - val_loss: 0.6570 - val_categorical_accuracy: 0.8238 - val_top_3_categorical_accuracy: 0.9366\n",
            "\n",
            "Epoch 00048: val_loss did not improve from 0.64305\n",
            "Epoch 49/50\n",
            " - 48s - loss: 0.7294 - categorical_accuracy: 0.7751 - top_3_categorical_accuracy: 0.9271 - val_loss: 0.6799 - val_categorical_accuracy: 0.8104 - val_top_3_categorical_accuracy: 0.9267\n",
            "\n",
            "Epoch 00049: val_loss did not improve from 0.64305\n",
            "Epoch 50/50\n",
            " - 48s - loss: 0.6854 - categorical_accuracy: 0.7908 - top_3_categorical_accuracy: 0.9323 - val_loss: 0.6289 - val_categorical_accuracy: 0.8280 - val_top_3_categorical_accuracy: 0.9338\n",
            "\n",
            "Epoch 00050: val_loss improved from 0.64305 to 0.62895, saving model to weights.best.model.hdf5\n"
          ]
        }
      ]
    },
    {
      "cell_type": "code",
      "metadata": {
        "id": "LoKGZc1qPDyN"
      },
      "source": [
        "y_test_predict = model.predict_classes(x_test)"
      ],
      "execution_count": 40,
      "outputs": []
    },
    {
      "cell_type": "code",
      "metadata": {
        "colab": {
          "base_uri": "https://localhost:8080/"
        },
        "id": "O8H1LUncaYXg",
        "outputId": "fac8ebb7-e425-4ae6-c299-34287d081539"
      },
      "source": [
        "score = model.evaluate(x_test, y_test)\n",
        "score"
      ],
      "execution_count": 46,
      "outputs": [
        {
          "output_type": "stream",
          "name": "stdout",
          "text": [
            "1419/1419 [==============================] - 2s 1ms/step\n"
          ]
        },
        {
          "output_type": "execute_result",
          "data": {
            "text/plain": [
              "[0.6391378811037481, 0.8280479311943054, 0.9400986433029175]"
            ]
          },
          "metadata": {},
          "execution_count": 46
        }
      ]
    },
    {
      "cell_type": "code",
      "metadata": {
        "id": "hVXyBj9kZoNM"
      },
      "source": [
        "symbols = ['а','б','в','г','д','е','ё','ж','з','и','й',\n",
        "           'к','л','м','н','о','п','р','с','т','у','ф',\n",
        "           'х','ц','ч','ш','щ','ъ','ы','ь','э','ю','я']"
      ],
      "execution_count": 43,
      "outputs": []
    },
    {
      "cell_type": "code",
      "metadata": {
        "colab": {
          "base_uri": "https://localhost:8080/",
          "height": 808
        },
        "id": "lTmKAji4PD0J",
        "outputId": "8516b9ec-8762-4864-e786-9a4498d7c682"
      },
      "source": [
        "fig = plt.figure(figsize=(14, 14))\n",
        "for i, idx in enumerate(np.random.choice(x_test.shape[0], size=16, replace=False)):\n",
        "    ax = fig.add_subplot(4, 4, i + 1, xticks=[], yticks=[])\n",
        "    ax.imshow(np.squeeze(x_test[idx]))\n",
        "    pred_idx = y_test_predict[idx]\n",
        "    true_idx = np.argmax(y_test[idx])\n",
        "    ax.set_title(\"{} ({})\".format(symbols[pred_idx], symbols[true_idx]),\n",
        "                 color=(\"#4876ff\" if pred_idx == true_idx else \"darkred\"))"
      ],
      "execution_count": 44,
      "outputs": [
        {
          "output_type": "display_data",
          "data": {
            "image/png": "[encoded data removed]",
            "text/plain": [
              "<Figure size 1008x1008 with 16 Axes>"
            ]
          },
          "metadata": {}
        }
      ]
    },
    {
      "cell_type": "code",
      "metadata": {
        "id": "TSCvGmVYPD18"
      },
      "source": [
        ""
      ],
      "execution_count": null,
      "outputs": []
    }
  ]
}